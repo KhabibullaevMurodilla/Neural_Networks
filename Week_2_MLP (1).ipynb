{
 "cells": [
  {
   "cell_type": "markdown",
   "metadata": {
    "id": "quDlLWcAP31q"
   },
   "source": [
    "## MLP for Binary Classification\n",
    "\n",
    "In this lab, you will use the Ionosphere data binary (two-class) classification dataset to demonstrate an MLP for binary classification.\n",
    "\n",
    "This dataset involves predicting whether a structure is in the atmosphere or not given radar returns.\n",
    "\n",
    "The dataset will be downloaded automatically using Pandas, but you can learn more in the links below.\n",
    "\n",
    "[Ionosphere Dataset (csv)](https://raw.githubusercontent.com/jbrownlee/Datasets/master/ionosphere.csv)\n",
    "\n",
    "[Ionosphere Dataset Description (csv)](https://raw.githubusercontent.com/jbrownlee/Datasets/master/ionosphere.names)\n",
    "\n",
    "\n",
    "Your task for this is lab is to develop a Keras-based Multi-Layer Perceptron model for this data set. Remember the number of output layers is equal to the number of classes.\n",
    "\n",
    "Following we have provided some piece of code to you while you need to complete the rest of the code on your own.\n",
    "\n"
   ]
  },
  {
   "cell_type": "code",
   "execution_count": 22,
   "metadata": {
    "id": "6086ipzNP31q"
   },
   "outputs": [],
   "source": [
    "# Importing Libraries\n",
    "\n",
    "# Your code to import read_csv class from pandas\n",
    "# Your code to import train_test_split class from sklearn. Follow link https://scikit-learn.org/stable/modules/generated/sklearn.model_selection.train_test_split.html\n",
    "from sklearn.preprocessing import LabelEncoder\n",
    "from tensorflow.keras import Sequential\n",
    "from tensorflow.keras.layers import Dense, LeakyReLU"
   ]
  },
  {
   "cell_type": "markdown",
   "metadata": {
    "id": "7755rFn_iDRj"
   },
   "source": [
    "# Read the dataset from the path below. Store the data in a pandas dataframe named 'df'\n",
    "\n",
    "Link to API - https://pandas.pydata.org/docs/reference/api/pandas.read_csv.html"
   ]
  },
  {
   "cell_type": "code",
   "execution_count": 2,
   "metadata": {
    "id": "058u-qkXP31r"
   },
   "outputs": [],
   "source": [
    "path = 'https://raw.githubusercontent.com/jbrownlee/Datasets/master/ionosphere.csv'\n",
    "# Your code to read the csv from the above path.\n",
    "import pandas as pd\n",
    "\n",
    "df = pd.read_csv(path)"
   ]
  },
  {
   "cell_type": "markdown",
   "metadata": {
    "id": "vG3n2OHrjQsG"
   },
   "source": [
    "See the sample dataset. Print few rows of the dataset. Use dataframe.head() method.\n",
    "\n",
    "Link to API:  https://pandas.pydata.org/docs/reference/api/pandas.DataFrame.head.html"
   ]
  },
  {
   "cell_type": "code",
   "execution_count": 3,
   "metadata": {
    "id": "jx3JTj4sfUIt"
   },
   "outputs": [
    {
     "data": {
      "text/html": [
       "<div>\n",
       "<style scoped>\n",
       "    .dataframe tbody tr th:only-of-type {\n",
       "        vertical-align: middle;\n",
       "    }\n",
       "\n",
       "    .dataframe tbody tr th {\n",
       "        vertical-align: top;\n",
       "    }\n",
       "\n",
       "    .dataframe thead th {\n",
       "        text-align: right;\n",
       "    }\n",
       "</style>\n",
       "<table border=\"1\" class=\"dataframe\">\n",
       "  <thead>\n",
       "    <tr style=\"text-align: right;\">\n",
       "      <th></th>\n",
       "      <th>1</th>\n",
       "      <th>0</th>\n",
       "      <th>0.99539</th>\n",
       "      <th>-0.05889</th>\n",
       "      <th>0.85243</th>\n",
       "      <th>0.02306</th>\n",
       "      <th>0.83398</th>\n",
       "      <th>-0.37708</th>\n",
       "      <th>1.1</th>\n",
       "      <th>0.03760</th>\n",
       "      <th>...</th>\n",
       "      <th>-0.51171</th>\n",
       "      <th>0.41078</th>\n",
       "      <th>-0.46168</th>\n",
       "      <th>0.21266</th>\n",
       "      <th>-0.34090</th>\n",
       "      <th>0.42267</th>\n",
       "      <th>-0.54487</th>\n",
       "      <th>0.18641</th>\n",
       "      <th>-0.45300</th>\n",
       "      <th>g</th>\n",
       "    </tr>\n",
       "  </thead>\n",
       "  <tbody>\n",
       "    <tr>\n",
       "      <th>0</th>\n",
       "      <td>1</td>\n",
       "      <td>0</td>\n",
       "      <td>1.00000</td>\n",
       "      <td>-0.18829</td>\n",
       "      <td>0.93035</td>\n",
       "      <td>-0.36156</td>\n",
       "      <td>-0.10868</td>\n",
       "      <td>-0.93597</td>\n",
       "      <td>1.00000</td>\n",
       "      <td>-0.04549</td>\n",
       "      <td>...</td>\n",
       "      <td>-0.26569</td>\n",
       "      <td>-0.20468</td>\n",
       "      <td>-0.18401</td>\n",
       "      <td>-0.19040</td>\n",
       "      <td>-0.11593</td>\n",
       "      <td>-0.16626</td>\n",
       "      <td>-0.06288</td>\n",
       "      <td>-0.13738</td>\n",
       "      <td>-0.02447</td>\n",
       "      <td>b</td>\n",
       "    </tr>\n",
       "    <tr>\n",
       "      <th>1</th>\n",
       "      <td>1</td>\n",
       "      <td>0</td>\n",
       "      <td>1.00000</td>\n",
       "      <td>-0.03365</td>\n",
       "      <td>1.00000</td>\n",
       "      <td>0.00485</td>\n",
       "      <td>1.00000</td>\n",
       "      <td>-0.12062</td>\n",
       "      <td>0.88965</td>\n",
       "      <td>0.01198</td>\n",
       "      <td>...</td>\n",
       "      <td>-0.40220</td>\n",
       "      <td>0.58984</td>\n",
       "      <td>-0.22145</td>\n",
       "      <td>0.43100</td>\n",
       "      <td>-0.17365</td>\n",
       "      <td>0.60436</td>\n",
       "      <td>-0.24180</td>\n",
       "      <td>0.56045</td>\n",
       "      <td>-0.38238</td>\n",
       "      <td>g</td>\n",
       "    </tr>\n",
       "    <tr>\n",
       "      <th>2</th>\n",
       "      <td>1</td>\n",
       "      <td>0</td>\n",
       "      <td>1.00000</td>\n",
       "      <td>-0.45161</td>\n",
       "      <td>1.00000</td>\n",
       "      <td>1.00000</td>\n",
       "      <td>0.71216</td>\n",
       "      <td>-1.00000</td>\n",
       "      <td>0.00000</td>\n",
       "      <td>0.00000</td>\n",
       "      <td>...</td>\n",
       "      <td>0.90695</td>\n",
       "      <td>0.51613</td>\n",
       "      <td>1.00000</td>\n",
       "      <td>1.00000</td>\n",
       "      <td>-0.20099</td>\n",
       "      <td>0.25682</td>\n",
       "      <td>1.00000</td>\n",
       "      <td>-0.32382</td>\n",
       "      <td>1.00000</td>\n",
       "      <td>b</td>\n",
       "    </tr>\n",
       "    <tr>\n",
       "      <th>3</th>\n",
       "      <td>1</td>\n",
       "      <td>0</td>\n",
       "      <td>1.00000</td>\n",
       "      <td>-0.02401</td>\n",
       "      <td>0.94140</td>\n",
       "      <td>0.06531</td>\n",
       "      <td>0.92106</td>\n",
       "      <td>-0.23255</td>\n",
       "      <td>0.77152</td>\n",
       "      <td>-0.16399</td>\n",
       "      <td>...</td>\n",
       "      <td>-0.65158</td>\n",
       "      <td>0.13290</td>\n",
       "      <td>-0.53206</td>\n",
       "      <td>0.02431</td>\n",
       "      <td>-0.62197</td>\n",
       "      <td>-0.05707</td>\n",
       "      <td>-0.59573</td>\n",
       "      <td>-0.04608</td>\n",
       "      <td>-0.65697</td>\n",
       "      <td>g</td>\n",
       "    </tr>\n",
       "    <tr>\n",
       "      <th>4</th>\n",
       "      <td>1</td>\n",
       "      <td>0</td>\n",
       "      <td>0.02337</td>\n",
       "      <td>-0.00592</td>\n",
       "      <td>-0.09924</td>\n",
       "      <td>-0.11949</td>\n",
       "      <td>-0.00763</td>\n",
       "      <td>-0.11824</td>\n",
       "      <td>0.14706</td>\n",
       "      <td>0.06637</td>\n",
       "      <td>...</td>\n",
       "      <td>-0.01535</td>\n",
       "      <td>-0.03240</td>\n",
       "      <td>0.09223</td>\n",
       "      <td>-0.07859</td>\n",
       "      <td>0.00732</td>\n",
       "      <td>0.00000</td>\n",
       "      <td>0.00000</td>\n",
       "      <td>-0.00039</td>\n",
       "      <td>0.12011</td>\n",
       "      <td>b</td>\n",
       "    </tr>\n",
       "  </tbody>\n",
       "</table>\n",
       "<p>5 rows × 35 columns</p>\n",
       "</div>"
      ],
      "text/plain": [
       "   1  0  0.99539  -0.05889  0.85243  0.02306  0.83398  -0.37708      1.1  \\\n",
       "0  1  0  1.00000  -0.18829  0.93035 -0.36156 -0.10868  -0.93597  1.00000   \n",
       "1  1  0  1.00000  -0.03365  1.00000  0.00485  1.00000  -0.12062  0.88965   \n",
       "2  1  0  1.00000  -0.45161  1.00000  1.00000  0.71216  -1.00000  0.00000   \n",
       "3  1  0  1.00000  -0.02401  0.94140  0.06531  0.92106  -0.23255  0.77152   \n",
       "4  1  0  0.02337  -0.00592 -0.09924 -0.11949 -0.00763  -0.11824  0.14706   \n",
       "\n",
       "   0.03760  ...  -0.51171  0.41078  -0.46168  0.21266  -0.34090  0.42267  \\\n",
       "0 -0.04549  ...  -0.26569 -0.20468  -0.18401 -0.19040  -0.11593 -0.16626   \n",
       "1  0.01198  ...  -0.40220  0.58984  -0.22145  0.43100  -0.17365  0.60436   \n",
       "2  0.00000  ...   0.90695  0.51613   1.00000  1.00000  -0.20099  0.25682   \n",
       "3 -0.16399  ...  -0.65158  0.13290  -0.53206  0.02431  -0.62197 -0.05707   \n",
       "4  0.06637  ...  -0.01535 -0.03240   0.09223 -0.07859   0.00732  0.00000   \n",
       "\n",
       "   -0.54487  0.18641  -0.45300  g  \n",
       "0  -0.06288 -0.13738  -0.02447  b  \n",
       "1  -0.24180  0.56045  -0.38238  g  \n",
       "2   1.00000 -0.32382   1.00000  b  \n",
       "3  -0.59573 -0.04608  -0.65697  g  \n",
       "4   0.00000 -0.00039   0.12011  b  \n",
       "\n",
       "[5 rows x 35 columns]"
      ]
     },
     "execution_count": 3,
     "metadata": {},
     "output_type": "execute_result"
    }
   ],
   "source": [
    "# Your code to print first few rows of the dataset.\n",
    "df.head()"
   ]
  },
  {
   "cell_type": "markdown",
   "metadata": {
    "id": "uo8Siqyxfhj7"
   },
   "source": [
    "Print the basic info of the dataset. Use dataframe.info() from pandas library\n"
   ]
  },
  {
   "cell_type": "code",
   "execution_count": 4,
   "metadata": {
    "id": "VgN9rYV_fiag"
   },
   "outputs": [
    {
     "name": "stdout",
     "output_type": "stream",
     "text": [
      "<class 'pandas.core.frame.DataFrame'>\n",
      "RangeIndex: 350 entries, 0 to 349\n",
      "Data columns (total 35 columns):\n",
      " #   Column     Non-Null Count  Dtype  \n",
      "---  ------     --------------  -----  \n",
      " 0   1          350 non-null    int64  \n",
      " 1   0          350 non-null    int64  \n",
      " 2   0.99539    350 non-null    float64\n",
      " 3   -0.05889   350 non-null    float64\n",
      " 4   0.85243    350 non-null    float64\n",
      " 5   0.02306    350 non-null    float64\n",
      " 6   0.83398    350 non-null    float64\n",
      " 7   -0.37708   350 non-null    float64\n",
      " 8   1.1        350 non-null    float64\n",
      " 9   0.03760    350 non-null    float64\n",
      " 10  0.85243.1  350 non-null    float64\n",
      " 11  -0.17755   350 non-null    float64\n",
      " 12  0.59755    350 non-null    float64\n",
      " 13  -0.44945   350 non-null    float64\n",
      " 14  0.60536    350 non-null    float64\n",
      " 15  -0.38223   350 non-null    float64\n",
      " 16  0.84356    350 non-null    float64\n",
      " 17  -0.38542   350 non-null    float64\n",
      " 18  0.58212    350 non-null    float64\n",
      " 19  -0.32192   350 non-null    float64\n",
      " 20  0.56971    350 non-null    float64\n",
      " 21  -0.29674   350 non-null    float64\n",
      " 22  0.36946    350 non-null    float64\n",
      " 23  -0.47357   350 non-null    float64\n",
      " 24  0.56811    350 non-null    float64\n",
      " 25  -0.51171   350 non-null    float64\n",
      " 26  0.41078    350 non-null    float64\n",
      " 27  -0.46168   350 non-null    float64\n",
      " 28  0.21266    350 non-null    float64\n",
      " 29  -0.34090   350 non-null    float64\n",
      " 30  0.42267    350 non-null    float64\n",
      " 31  -0.54487   350 non-null    float64\n",
      " 32  0.18641    350 non-null    float64\n",
      " 33  -0.45300   350 non-null    float64\n",
      " 34  g          350 non-null    object \n",
      "dtypes: float64(32), int64(2), object(1)\n",
      "memory usage: 95.8+ KB\n"
     ]
    }
   ],
   "source": [
    "# Your code to print information about the dataframe\n",
    "df.info()"
   ]
  },
  {
   "cell_type": "markdown",
   "metadata": {
    "id": "AX_YFAb4kdl4"
   },
   "source": [
    "Print the shape of the dataframe. Select suitable API call from the pandas library"
   ]
  },
  {
   "cell_type": "code",
   "execution_count": 5,
   "metadata": {
    "id": "rlfCOssvf44O"
   },
   "outputs": [
    {
     "data": {
      "text/plain": [
       "(350, 35)"
      ]
     },
     "execution_count": 5,
     "metadata": {},
     "output_type": "execute_result"
    }
   ],
   "source": [
    "# Your code to print the shape of the dataset\n",
    "df.shape"
   ]
  },
  {
   "cell_type": "markdown",
   "metadata": {
    "id": "aekdoY2zkxU4"
   },
   "source": [
    "# Separate the input and output from the dataframe. Input is all columns besides last column. Output is the last column.\n"
   ]
  },
  {
   "cell_type": "code",
   "execution_count": 8,
   "metadata": {
    "id": "_5bh8al2P31s"
   },
   "outputs": [],
   "source": [
    "X = df.values[:, :-1]\n",
    "# Your code to get y - Hint y = df.values[:, some parameters]\n",
    "y = df.values[:, -1]\n"
   ]
  },
  {
   "cell_type": "markdown",
   "metadata": {
    "id": "t7y3GhJDloqk"
   },
   "source": [
    "We have converted everthing in X to 'float' and the letters in column y to the numbers in the following cell."
   ]
  },
  {
   "cell_type": "code",
   "execution_count": 9,
   "metadata": {
    "id": "qVtPf2F9lg17"
   },
   "outputs": [],
   "source": [
    "X = X.astype('float32')\n",
    "y = LabelEncoder().fit_transform(y)"
   ]
  },
  {
   "cell_type": "markdown",
   "metadata": {
    "id": "EZ_aY4H3l9bI"
   },
   "source": [
    "Printing the genral information of the X and y in the following cell"
   ]
  },
  {
   "cell_type": "code",
   "execution_count": 10,
   "metadata": {
    "id": "BWBOMrBigew9"
   },
   "outputs": [
    {
     "data": {
      "text/plain": [
       "array([[ 1.     ,  0.     ,  1.     , ..., -0.06288, -0.13738, -0.02447],\n",
       "       [ 1.     ,  0.     ,  1.     , ..., -0.2418 ,  0.56045, -0.38238],\n",
       "       [ 1.     ,  0.     ,  1.     , ...,  1.     , -0.32382,  1.     ],\n",
       "       ...,\n",
       "       [ 1.     ,  0.     ,  0.94701, ...,  0.00442,  0.92697, -0.00577],\n",
       "       [ 1.     ,  0.     ,  0.90608, ..., -0.03757,  0.87403, -0.16243],\n",
       "       [ 1.     ,  0.     ,  0.8471 , ..., -0.06678,  0.85764, -0.06151]],\n",
       "      dtype=float32)"
      ]
     },
     "execution_count": 10,
     "metadata": {},
     "output_type": "execute_result"
    }
   ],
   "source": [
    "# Your code to print X\n",
    "# Your code to print y\n",
    "# your code to print shape of X. Remember X is a numpy array\n",
    "# your code to print shape of y. Remember y is a numpy array\n",
    "X"
   ]
  },
  {
   "cell_type": "code",
   "execution_count": 11,
   "metadata": {},
   "outputs": [
    {
     "data": {
      "text/plain": [
       "array([0, 1, 0, 1, 0, 1, 0, 1, 0, 1, 0, 1, 0, 1, 0, 1, 0, 1, 0, 1, 0, 1,\n",
       "       0, 1, 0, 1, 0, 1, 0, 1, 0, 1, 0, 1, 0, 1, 0, 1, 0, 1, 0, 1, 0, 1,\n",
       "       0, 1, 0, 1, 0, 1, 0, 1, 0, 1, 0, 1, 0, 1, 0, 1, 0, 1, 0, 1, 0, 1,\n",
       "       0, 1, 0, 1, 0, 1, 0, 1, 0, 1, 0, 1, 0, 1, 0, 1, 0, 1, 0, 1, 0, 1,\n",
       "       0, 1, 0, 1, 0, 1, 0, 1, 1, 0, 1, 0, 1, 0, 1, 0, 1, 0, 1, 0, 1, 0,\n",
       "       1, 0, 1, 0, 1, 0, 1, 0, 1, 0, 1, 0, 1, 0, 1, 0, 1, 0, 1, 0, 1, 0,\n",
       "       1, 0, 1, 0, 1, 0, 1, 0, 1, 0, 1, 0, 1, 0, 1, 0, 1, 0, 1, 0, 1, 0,\n",
       "       1, 0, 1, 0, 1, 0, 1, 0, 1, 0, 1, 0, 1, 0, 1, 0, 1, 0, 1, 0, 1, 0,\n",
       "       1, 0, 1, 0, 1, 0, 1, 0, 1, 0, 1, 0, 1, 0, 1, 0, 1, 0, 1, 0, 1, 0,\n",
       "       1, 0, 1, 0, 1, 0, 1, 0, 1, 0, 1, 0, 1, 0, 1, 0, 1, 0, 1, 0, 1, 0,\n",
       "       1, 0, 1, 0, 1, 0, 1, 0, 1, 0, 1, 0, 1, 0, 1, 0, 1, 0, 1, 0, 1, 0,\n",
       "       1, 0, 1, 0, 1, 0, 1, 0, 1, 0, 1, 1, 1, 1, 1, 1, 1, 1, 1, 1, 1, 1,\n",
       "       1, 1, 1, 1, 1, 1, 1, 1, 1, 1, 1, 1, 1, 1, 1, 1, 1, 1, 1, 1, 1, 1,\n",
       "       1, 1, 1, 1, 1, 1, 1, 1, 1, 1, 1, 1, 1, 1, 1, 1, 1, 1, 1, 1, 1, 1,\n",
       "       1, 1, 1, 1, 1, 1, 1, 1, 1, 1, 1, 1, 1, 1, 1, 1, 1, 1, 1, 1, 1, 1,\n",
       "       1, 1, 1, 1, 1, 1, 1, 1, 1, 1, 1, 1, 1, 1, 1, 1, 1, 1, 1, 1])"
      ]
     },
     "execution_count": 11,
     "metadata": {},
     "output_type": "execute_result"
    }
   ],
   "source": [
    "y"
   ]
  },
  {
   "cell_type": "code",
   "execution_count": 12,
   "metadata": {},
   "outputs": [
    {
     "data": {
      "text/plain": [
       "(350, 34)"
      ]
     },
     "execution_count": 12,
     "metadata": {},
     "output_type": "execute_result"
    }
   ],
   "source": [
    "X.shape"
   ]
  },
  {
   "cell_type": "code",
   "execution_count": 13,
   "metadata": {},
   "outputs": [
    {
     "data": {
      "text/plain": [
       "(350,)"
      ]
     },
     "execution_count": 13,
     "metadata": {},
     "output_type": "execute_result"
    }
   ],
   "source": [
    "y.shape"
   ]
  },
  {
   "cell_type": "markdown",
   "metadata": {
    "id": "f9ltrLLqmkgW"
   },
   "source": [
    "* Separate X and y into training and test set with a ratio of your choice.\n",
    "* Print the shapes of the resulting arrays.\n",
    "* Get the number of features from X_train. Remember the number of features are the number of inputs.\n",
    "\n",
    "Use sklearn train_test_split class.\n",
    "https://scikit-learn.org/stable/modules/generated/sklearn.model_selection.train_test_split.html\n"
   ]
  },
  {
   "cell_type": "code",
   "execution_count": 16,
   "metadata": {
    "id": "-CjFJcAMP31s"
   },
   "outputs": [
    {
     "name": "stdout",
     "output_type": "stream",
     "text": [
      "(262, 34)\n",
      "(88, 34)\n",
      "(262,)\n",
      "(88,)\n"
     ]
    }
   ],
   "source": [
    "# Your code to separate the data into trauning and test set.\n",
    "from sklearn.model_selection import train_test_split\n",
    "# Your code to print shape of X_train\n",
    "# Your code to print shape of X_test\n",
    "# Your code to print shape of y_train\n",
    "# Your code to print shape of X_test\n",
    "X_train, X_test, y_train, y_test = train_test_split(X, y)\n",
    "\n",
    "print(X_train.shape)\n",
    "print(X_test.shape)\n",
    "print(y_train.shape)\n",
    "print(y_test.shape)\n",
    "\n",
    "\n",
    "n_features = X_train.shape[1]"
   ]
  },
  {
   "cell_type": "markdown",
   "metadata": {
    "id": "dQdqYXJ9pqzC"
   },
   "source": [
    "# Creating a Multi-layer Perceptron using Keras.\n",
    "We have added first and last layers. Create the hidden layers of your choise.\n",
    "You can chose any number of hidden layers and activation function of your chose\n",
    "https://keras.io/api/layers/core_layers/dense/"
   ]
  },
  {
   "cell_type": "code",
   "execution_count": 64,
   "metadata": {
    "id": "hhTE3u-_P31t"
   },
   "outputs": [],
   "source": [
    "model = Sequential()\n",
    "model.add(Dense(10, activation='relu', input_shape=(n_features,)))\n",
    "#\n",
    "# Add as many layers with activation functions of your choice\n",
    "#\n",
    "model.add(Dense(9, activation='relu'))\n",
    "\n",
    "\n",
    "model.add(Dense(1, activation='sigmoid'))"
   ]
  },
  {
   "cell_type": "code",
   "execution_count": null,
   "metadata": {},
   "outputs": [],
   "source": []
  },
  {
   "cell_type": "markdown",
   "metadata": {
    "id": "2NtBU922rH67"
   },
   "source": [
    "In the next cell, we trained the above neural network model and tested its accuracy. As this concept has still not benn covered in the class, just run the code to check the accuracy."
   ]
  },
  {
   "cell_type": "code",
   "execution_count": 65,
   "metadata": {
    "id": "krgB1SuRP31t"
   },
   "outputs": [
    {
     "name": "stdout",
     "output_type": "stream",
     "text": [
      "Epoch 1/150\n",
      "9/9 [==============================] - 1s 1ms/step - loss: 0.6725 - accuracy: 0.6489\n",
      "Epoch 2/150\n",
      "9/9 [==============================] - 0s 0s/step - loss: 0.6247 - accuracy: 0.7290\n",
      "Epoch 3/150\n",
      "9/9 [==============================] - 0s 853us/step - loss: 0.5903 - accuracy: 0.7099\n",
      "Epoch 4/150\n",
      "9/9 [==============================] - 0s 2ms/step - loss: 0.5731 - accuracy: 0.6985\n",
      "Epoch 5/150\n",
      "9/9 [==============================] - 0s 2ms/step - loss: 0.5613 - accuracy: 0.6947\n",
      "Epoch 6/150\n",
      "9/9 [==============================] - 0s 2ms/step - loss: 0.5524 - accuracy: 0.6947\n",
      "Epoch 7/150\n",
      "9/9 [==============================] - 0s 0s/step - loss: 0.5440 - accuracy: 0.6947\n",
      "Epoch 8/150\n",
      "9/9 [==============================] - 0s 520us/step - loss: 0.5362 - accuracy: 0.7061\n",
      "Epoch 9/150\n",
      "9/9 [==============================] - 0s 2ms/step - loss: 0.5292 - accuracy: 0.7061\n",
      "Epoch 10/150\n",
      "9/9 [==============================] - 0s 2ms/step - loss: 0.5220 - accuracy: 0.7176\n",
      "Epoch 11/150\n",
      "9/9 [==============================] - 0s 2ms/step - loss: 0.5150 - accuracy: 0.7214\n",
      "Epoch 12/150\n",
      "9/9 [==============================] - 0s 2ms/step - loss: 0.5073 - accuracy: 0.7405\n",
      "Epoch 13/150\n",
      "9/9 [==============================] - 0s 0s/step - loss: 0.5005 - accuracy: 0.7481\n",
      "Epoch 14/150\n",
      "9/9 [==============================] - 0s 237us/step - loss: 0.4933 - accuracy: 0.7557\n",
      "Epoch 15/150\n",
      "9/9 [==============================] - 0s 764us/step - loss: 0.4858 - accuracy: 0.7710\n",
      "Epoch 16/150\n",
      "9/9 [==============================] - 0s 2ms/step - loss: 0.4786 - accuracy: 0.7710\n",
      "Epoch 17/150\n",
      "9/9 [==============================] - 0s 2ms/step - loss: 0.4710 - accuracy: 0.7863\n",
      "Epoch 18/150\n",
      "9/9 [==============================] - 0s 0s/step - loss: 0.4635 - accuracy: 0.8015\n",
      "Epoch 19/150\n",
      "9/9 [==============================] - 0s 158us/step - loss: 0.4560 - accuracy: 0.8092\n",
      "Epoch 20/150\n",
      "9/9 [==============================] - 0s 2ms/step - loss: 0.4477 - accuracy: 0.8321\n",
      "Epoch 21/150\n",
      "9/9 [==============================] - 0s 2ms/step - loss: 0.4390 - accuracy: 0.8588\n",
      "Epoch 22/150\n",
      "9/9 [==============================] - 0s 2ms/step - loss: 0.4299 - accuracy: 0.8702\n",
      "Epoch 23/150\n",
      "9/9 [==============================] - 0s 0s/step - loss: 0.4200 - accuracy: 0.8702\n",
      "Epoch 24/150\n",
      "9/9 [==============================] - 0s 2ms/step - loss: 0.4108 - accuracy: 0.8817\n",
      "Epoch 25/150\n",
      "9/9 [==============================] - 0s 2ms/step - loss: 0.4003 - accuracy: 0.8855\n",
      "Epoch 26/150\n",
      "9/9 [==============================] - 0s 2ms/step - loss: 0.3891 - accuracy: 0.8855\n",
      "Epoch 27/150\n",
      "9/9 [==============================] - 0s 0s/step - loss: 0.3775 - accuracy: 0.8893\n",
      "Epoch 28/150\n",
      "9/9 [==============================] - 0s 556us/step - loss: 0.3657 - accuracy: 0.9008\n",
      "Epoch 29/150\n",
      "9/9 [==============================] - 0s 2ms/step - loss: 0.3542 - accuracy: 0.9008\n",
      "Epoch 30/150\n",
      "9/9 [==============================] - 0s 2ms/step - loss: 0.3431 - accuracy: 0.9008\n",
      "Epoch 31/150\n",
      "9/9 [==============================] - 0s 2ms/step - loss: 0.3325 - accuracy: 0.9084\n",
      "Epoch 32/150\n",
      "9/9 [==============================] - 0s 2ms/step - loss: 0.3206 - accuracy: 0.9084\n",
      "Epoch 33/150\n",
      "9/9 [==============================] - 0s 0s/step - loss: 0.3100 - accuracy: 0.9160\n",
      "Epoch 34/150\n",
      "9/9 [==============================] - 0s 282us/step - loss: 0.2996 - accuracy: 0.9160\n",
      "Epoch 35/150\n",
      "9/9 [==============================] - 0s 678us/step - loss: 0.2895 - accuracy: 0.9160\n",
      "Epoch 36/150\n",
      "9/9 [==============================] - 0s 2ms/step - loss: 0.2793 - accuracy: 0.9160\n",
      "Epoch 37/150\n",
      "9/9 [==============================] - 0s 2ms/step - loss: 0.2684 - accuracy: 0.9198\n",
      "Epoch 38/150\n",
      "9/9 [==============================] - 0s 2ms/step - loss: 0.2588 - accuracy: 0.9198\n",
      "Epoch 39/150\n",
      "9/9 [==============================] - 0s 0s/step - loss: 0.2485 - accuracy: 0.9275\n",
      "Epoch 40/150\n",
      "9/9 [==============================] - 0s 398us/step - loss: 0.2378 - accuracy: 0.9313\n",
      "Epoch 41/150\n",
      "9/9 [==============================] - 0s 2ms/step - loss: 0.2290 - accuracy: 0.9351\n",
      "Epoch 42/150\n",
      "9/9 [==============================] - 0s 2ms/step - loss: 0.2192 - accuracy: 0.9466\n",
      "Epoch 43/150\n",
      "9/9 [==============================] - 0s 2ms/step - loss: 0.2109 - accuracy: 0.9466\n",
      "Epoch 44/150\n",
      "9/9 [==============================] - 0s 0s/step - loss: 0.2018 - accuracy: 0.9466\n",
      "Epoch 45/150\n",
      "9/9 [==============================] - 0s 543us/step - loss: 0.1920 - accuracy: 0.9504\n",
      "Epoch 46/150\n",
      "9/9 [==============================] - 0s 2ms/step - loss: 0.1835 - accuracy: 0.9542\n",
      "Epoch 47/150\n",
      "9/9 [==============================] - 0s 2ms/step - loss: 0.1753 - accuracy: 0.9542\n",
      "Epoch 48/150\n",
      "9/9 [==============================] - 0s 0s/step - loss: 0.1675 - accuracy: 0.9542\n",
      "Epoch 49/150\n",
      "9/9 [==============================] - 0s 490us/step - loss: 0.1591 - accuracy: 0.9542\n",
      "Epoch 50/150\n",
      "9/9 [==============================] - 0s 762us/step - loss: 0.1515 - accuracy: 0.9542\n",
      "Epoch 51/150\n",
      "9/9 [==============================] - 0s 2ms/step - loss: 0.1452 - accuracy: 0.9542\n",
      "Epoch 52/150\n",
      "9/9 [==============================] - 0s 1ms/step - loss: 0.1391 - accuracy: 0.9618\n",
      "Epoch 53/150\n",
      "9/9 [==============================] - 0s 2ms/step - loss: 0.1333 - accuracy: 0.9695\n",
      "Epoch 54/150\n",
      "9/9 [==============================] - 0s 142us/step - loss: 0.1286 - accuracy: 0.9733\n",
      "Epoch 55/150\n",
      "9/9 [==============================] - 0s 364us/step - loss: 0.1240 - accuracy: 0.9733\n",
      "Epoch 56/150\n",
      "9/9 [==============================] - 0s 2ms/step - loss: 0.1194 - accuracy: 0.9733\n",
      "Epoch 57/150\n",
      "9/9 [==============================] - 0s 2ms/step - loss: 0.1154 - accuracy: 0.9771\n",
      "Epoch 58/150\n",
      "9/9 [==============================] - 0s 0s/step - loss: 0.1126 - accuracy: 0.9771\n",
      "Epoch 59/150\n",
      "9/9 [==============================] - 0s 1ms/step - loss: 0.1081 - accuracy: 0.9771\n",
      "Epoch 60/150\n",
      "9/9 [==============================] - 0s 536us/step - loss: 0.1046 - accuracy: 0.9733\n",
      "Epoch 61/150\n",
      "9/9 [==============================] - 0s 2ms/step - loss: 0.1015 - accuracy: 0.9771\n",
      "Epoch 62/150\n",
      "9/9 [==============================] - 0s 2ms/step - loss: 0.0984 - accuracy: 0.9771\n",
      "Epoch 63/150\n",
      "9/9 [==============================] - 0s 0s/step - loss: 0.0953 - accuracy: 0.9771\n",
      "Epoch 64/150\n",
      "9/9 [==============================] - 0s 560us/step - loss: 0.0928 - accuracy: 0.9809\n",
      "Epoch 65/150\n",
      "9/9 [==============================] - 0s 2ms/step - loss: 0.0899 - accuracy: 0.9771\n",
      "Epoch 66/150\n",
      "9/9 [==============================] - 0s 2ms/step - loss: 0.0875 - accuracy: 0.9771\n",
      "Epoch 67/150\n",
      "9/9 [==============================] - 0s 0s/step - loss: 0.0852 - accuracy: 0.9809\n",
      "Epoch 68/150\n",
      "9/9 [==============================] - 0s 224us/step - loss: 0.0832 - accuracy: 0.9847\n",
      "Epoch 69/150\n",
      "9/9 [==============================] - 0s 2ms/step - loss: 0.0810 - accuracy: 0.9847\n",
      "Epoch 70/150\n",
      "9/9 [==============================] - 0s 2ms/step - loss: 0.0780 - accuracy: 0.9847\n",
      "Epoch 71/150\n",
      "9/9 [==============================] - 0s 2ms/step - loss: 0.0773 - accuracy: 0.9847\n",
      "Epoch 72/150\n",
      "9/9 [==============================] - 0s 1ms/step - loss: 0.0751 - accuracy: 0.9847\n",
      "Epoch 73/150\n",
      "9/9 [==============================] - 0s 178us/step - loss: 0.0722 - accuracy: 0.9809\n",
      "Epoch 74/150\n",
      "9/9 [==============================] - 0s 498us/step - loss: 0.0705 - accuracy: 0.9847\n",
      "Epoch 75/150\n",
      "9/9 [==============================] - 0s 2ms/step - loss: 0.0686 - accuracy: 0.9847\n",
      "Epoch 76/150\n",
      "9/9 [==============================] - 0s 2ms/step - loss: 0.0673 - accuracy: 0.9847\n",
      "Epoch 77/150\n",
      "9/9 [==============================] - 0s 2ms/step - loss: 0.0654 - accuracy: 0.9847\n",
      "Epoch 78/150\n",
      "9/9 [==============================] - 0s 2ms/step - loss: 0.0637 - accuracy: 0.9847\n",
      "Epoch 79/150\n",
      "9/9 [==============================] - 0s 2ms/step - loss: 0.0624 - accuracy: 0.9847\n",
      "Epoch 80/150\n",
      "9/9 [==============================] - 0s 0s/step - loss: 0.0611 - accuracy: 0.9847\n",
      "Epoch 81/150\n",
      "9/9 [==============================] - 0s 433us/step - loss: 0.0596 - accuracy: 0.9847\n",
      "Epoch 82/150\n",
      "9/9 [==============================] - 0s 665us/step - loss: 0.0584 - accuracy: 0.9885\n",
      "Epoch 83/150\n",
      "9/9 [==============================] - 0s 2ms/step - loss: 0.0569 - accuracy: 0.9885\n",
      "Epoch 84/150\n",
      "9/9 [==============================] - 0s 2ms/step - loss: 0.0562 - accuracy: 0.9885\n",
      "Epoch 85/150\n",
      "9/9 [==============================] - 0s 2ms/step - loss: 0.0547 - accuracy: 0.9885\n",
      "Epoch 86/150\n",
      "9/9 [==============================] - 0s 0s/step - loss: 0.0537 - accuracy: 0.9885\n",
      "Epoch 87/150\n",
      "9/9 [==============================] - 0s 182us/step - loss: 0.0525 - accuracy: 0.9885\n",
      "Epoch 88/150\n",
      "9/9 [==============================] - 0s 2ms/step - loss: 0.0521 - accuracy: 0.9885\n",
      "Epoch 89/150\n",
      "9/9 [==============================] - 0s 2ms/step - loss: 0.0506 - accuracy: 0.9885\n",
      "Epoch 90/150\n",
      "9/9 [==============================] - 0s 2ms/step - loss: 0.0493 - accuracy: 0.9885\n",
      "Epoch 91/150\n",
      "9/9 [==============================] - 0s 0s/step - loss: 0.0484 - accuracy: 0.9885\n",
      "Epoch 92/150\n",
      "9/9 [==============================] - 0s 88us/step - loss: 0.0474 - accuracy: 0.9885\n",
      "Epoch 93/150\n",
      "9/9 [==============================] - 0s 2ms/step - loss: 0.0464 - accuracy: 0.9885\n",
      "Epoch 94/150\n",
      "9/9 [==============================] - 0s 2ms/step - loss: 0.0457 - accuracy: 0.9885\n",
      "Epoch 95/150\n",
      "9/9 [==============================] - 0s 0s/step - loss: 0.0450 - accuracy: 0.9885\n",
      "Epoch 96/150\n",
      "9/9 [==============================] - 0s 296us/step - loss: 0.0439 - accuracy: 0.9885\n",
      "Epoch 97/150\n",
      "9/9 [==============================] - 0s 3ms/step - loss: 0.0432 - accuracy: 0.9885\n",
      "Epoch 98/150\n",
      "9/9 [==============================] - 0s 1ms/step - loss: 0.0428 - accuracy: 0.9885\n",
      "Epoch 99/150\n",
      "9/9 [==============================] - 0s 0s/step - loss: 0.0425 - accuracy: 0.9924\n",
      "Epoch 100/150\n",
      "9/9 [==============================] - 0s 323us/step - loss: 0.0421 - accuracy: 0.9924\n",
      "Epoch 101/150\n",
      "9/9 [==============================] - 0s 2ms/step - loss: 0.0404 - accuracy: 0.9924\n",
      "Epoch 102/150\n",
      "9/9 [==============================] - 0s 2ms/step - loss: 0.0393 - accuracy: 0.9924\n",
      "Epoch 103/150\n",
      "9/9 [==============================] - 0s 0s/step - loss: 0.0390 - accuracy: 0.9924\n",
      "Epoch 104/150\n",
      "9/9 [==============================] - 0s 2ms/step - loss: 0.0382 - accuracy: 0.9924\n",
      "Epoch 105/150\n",
      "9/9 [==============================] - 0s 2ms/step - loss: 0.0377 - accuracy: 0.9924\n",
      "Epoch 106/150\n",
      "9/9 [==============================] - 0s 0s/step - loss: 0.0370 - accuracy: 0.9924\n",
      "Epoch 107/150\n",
      "9/9 [==============================] - 0s 47us/step - loss: 0.0364 - accuracy: 0.9924\n",
      "Epoch 108/150\n",
      "9/9 [==============================] - 0s 2ms/step - loss: 0.0357 - accuracy: 0.9924\n",
      "Epoch 109/150\n",
      "9/9 [==============================] - 0s 2ms/step - loss: 0.0351 - accuracy: 0.9924\n",
      "Epoch 110/150\n",
      "9/9 [==============================] - 0s 2ms/step - loss: 0.0344 - accuracy: 0.9924\n",
      "Epoch 111/150\n",
      "9/9 [==============================] - 0s 0s/step - loss: 0.0340 - accuracy: 0.9924\n",
      "Epoch 112/150\n",
      "9/9 [==============================] - 0s 295us/step - loss: 0.0333 - accuracy: 0.9924\n",
      "Epoch 113/150\n",
      "9/9 [==============================] - 0s 2ms/step - loss: 0.0328 - accuracy: 0.9924\n",
      "Epoch 114/150\n",
      "9/9 [==============================] - 0s 2ms/step - loss: 0.0325 - accuracy: 0.9924\n",
      "Epoch 115/150\n",
      "9/9 [==============================] - 0s 0s/step - loss: 0.0319 - accuracy: 0.9924\n",
      "Epoch 116/150\n",
      "9/9 [==============================] - 0s 2ms/step - loss: 0.0315 - accuracy: 0.9924\n",
      "Epoch 117/150\n",
      "9/9 [==============================] - 0s 2ms/step - loss: 0.0309 - accuracy: 0.9924\n",
      "Epoch 118/150\n",
      "9/9 [==============================] - 0s 0s/step - loss: 0.0310 - accuracy: 0.9924\n",
      "Epoch 119/150\n",
      "9/9 [==============================] - 0s 77us/step - loss: 0.0301 - accuracy: 0.9924\n",
      "Epoch 120/150\n",
      "9/9 [==============================] - 0s 2ms/step - loss: 0.0294 - accuracy: 0.9924\n",
      "Epoch 121/150\n",
      "9/9 [==============================] - 0s 2ms/step - loss: 0.0290 - accuracy: 0.9924\n",
      "Epoch 122/150\n",
      "9/9 [==============================] - 0s 0s/step - loss: 0.0285 - accuracy: 0.9924\n",
      "Epoch 123/150\n",
      "9/9 [==============================] - 0s 88us/step - loss: 0.0283 - accuracy: 0.9924\n",
      "Epoch 124/150\n",
      "9/9 [==============================] - 0s 2ms/step - loss: 0.0278 - accuracy: 0.9924\n",
      "Epoch 125/150\n",
      "9/9 [==============================] - 0s 2ms/step - loss: 0.0269 - accuracy: 0.9924\n",
      "Epoch 126/150\n",
      "9/9 [==============================] - 0s 0s/step - loss: 0.0275 - accuracy: 0.9924\n",
      "Epoch 127/150\n",
      "9/9 [==============================] - 0s 386us/step - loss: 0.0268 - accuracy: 0.9924\n",
      "Epoch 128/150\n",
      "9/9 [==============================] - 0s 2ms/step - loss: 0.0261 - accuracy: 0.9924\n",
      "Epoch 129/150\n",
      "9/9 [==============================] - 0s 2ms/step - loss: 0.0257 - accuracy: 0.9924\n",
      "Epoch 130/150\n",
      "9/9 [==============================] - 0s 0s/step - loss: 0.0253 - accuracy: 0.9924\n",
      "Epoch 131/150\n",
      "9/9 [==============================] - 0s 1ms/step - loss: 0.0249 - accuracy: 0.9924\n",
      "Epoch 132/150\n",
      "9/9 [==============================] - 0s 1ms/step - loss: 0.0244 - accuracy: 0.9924\n",
      "Epoch 133/150\n",
      "9/9 [==============================] - 0s 2ms/step - loss: 0.0242 - accuracy: 0.9924\n",
      "Epoch 134/150\n",
      "9/9 [==============================] - 0s 0s/step - loss: 0.0238 - accuracy: 0.9924\n",
      "Epoch 135/150\n",
      "9/9 [==============================] - 0s 2ms/step - loss: 0.0234 - accuracy: 0.9924\n",
      "Epoch 136/150\n",
      "9/9 [==============================] - 0s 2ms/step - loss: 0.0230 - accuracy: 0.9924\n",
      "Epoch 137/150\n",
      "9/9 [==============================] - 0s 2ms/step - loss: 0.0228 - accuracy: 0.9924\n",
      "Epoch 138/150\n",
      "9/9 [==============================] - 0s 115us/step - loss: 0.0225 - accuracy: 0.9924\n",
      "Epoch 139/150\n",
      "9/9 [==============================] - 0s 2ms/step - loss: 0.0221 - accuracy: 0.9924\n",
      "Epoch 140/150\n",
      "9/9 [==============================] - 0s 2ms/step - loss: 0.0219 - accuracy: 0.9924\n",
      "Epoch 141/150\n",
      "9/9 [==============================] - 0s 0s/step - loss: 0.0217 - accuracy: 0.9924\n",
      "Epoch 142/150\n",
      "9/9 [==============================] - 0s 261us/step - loss: 0.0215 - accuracy: 0.9924\n",
      "Epoch 143/150\n",
      "9/9 [==============================] - 0s 549us/step - loss: 0.0215 - accuracy: 0.9962\n",
      "Epoch 144/150\n",
      "9/9 [==============================] - 0s 2ms/step - loss: 0.0213 - accuracy: 0.9962\n",
      "Epoch 145/150\n",
      "9/9 [==============================] - 0s 2ms/step - loss: 0.0206 - accuracy: 0.9962\n",
      "Epoch 146/150\n",
      "9/9 [==============================] - 0s 0s/step - loss: 0.0203 - accuracy: 0.9962\n",
      "Epoch 147/150\n",
      "9/9 [==============================] - 0s 479us/step - loss: 0.0200 - accuracy: 0.9924\n",
      "Epoch 148/150\n",
      "9/9 [==============================] - 0s 2ms/step - loss: 0.0198 - accuracy: 0.9924\n",
      "Epoch 149/150\n",
      "9/9 [==============================] - 0s 2ms/step - loss: 0.0195 - accuracy: 0.9924\n",
      "Epoch 150/150\n",
      "9/9 [==============================] - 0s 0s/step - loss: 0.0193 - accuracy: 0.9924\n",
      "Test Accuracy: 0.852\n"
     ]
    }
   ],
   "source": [
    "model.compile(optimizer='adam', loss='binary_crossentropy', metrics=['accuracy'])\n",
    "model.fit(X_train, y_train, epochs=150, batch_size=32, verbose=1)\n",
    "\n",
    "loss, acc = model.evaluate(X_test, y_test, verbose=0)\n",
    "print('Test Accuracy: %.3f' % acc)"
   ]
  },
  {
   "cell_type": "markdown",
   "metadata": {
    "id": "8ReYGy_jsCh0"
   },
   "source": [
    "** How much accuracy have you got? Compare the accuracy with your peers. **\n",
    "** Now, change your model and activation function to get the better accuracy as compared to your peers **"
   ]
  },
  {
   "cell_type": "markdown",
   "metadata": {
    "id": "rmeq5l1edZPg"
   },
   "source": [
    "## **Important:** Document in your lab logbook the accuracy of the improved model. Do not include any code or explanations in your lab logbook. Simply record the accuracy. For example, if the obtained accuracy is 0.98, then enter \"0.98\" in your lab logbook.\n",
    "\n",
    "## In addition to the accuracy, also document the output of the neural network as provided in Task 2.\n"
   ]
  },
  {
   "cell_type": "markdown",
   "metadata": {
    "id": "ZFNL8fY2rd41"
   },
   "source": [
    "\n",
    "Next, we have provided the code to predict on an unknown value.\n",
    "We will cover these concepts later in the class. For now, just run the code to see the prediction."
   ]
  },
  {
   "cell_type": "code",
   "execution_count": 66,
   "metadata": {
    "colab": {
     "base_uri": "https://localhost:8080/"
    },
    "id": "kXV7gQRAP31u",
    "outputId": "a5092aea-3cad-4009-de83-956caa73ecba"
   },
   "outputs": [
    {
     "name": "stdout",
     "output_type": "stream",
     "text": [
      "1/1 [==============================] - 0s 51ms/step\n",
      "Predicted: 0.998\n"
     ]
    }
   ],
   "source": [
    "row = [1,0,0.99539,-0.05889,0.85243,0.02306,\n",
    "       0.83398,-0.37708,1,0.03760,0.85243,-0.17755,\n",
    "       0.59755,-0.44945,0.60536,-0.38223,0.84356,\n",
    "       -0.38542,0.58212,-0.32192,0.56971,-0.29674,0.36946,\n",
    "       -0.47357,0.56811,-0.51171,0.41078,-0.46168,0.21266,\n",
    "       -0.34090,0.42267,-0.54487,0.18641,-0.45300]\n",
    "yhat = model.predict([row])\n",
    "print('Predicted: %.3f' % yhat)"
   ]
  },
  {
   "cell_type": "code",
   "execution_count": null,
   "metadata": {},
   "outputs": [],
   "source": []
  },
  {
   "cell_type": "code",
   "execution_count": null,
   "metadata": {},
   "outputs": [],
   "source": []
  },
  {
   "cell_type": "code",
   "execution_count": null,
   "metadata": {},
   "outputs": [],
   "source": []
  },
  {
   "cell_type": "code",
   "execution_count": null,
   "metadata": {},
   "outputs": [],
   "source": []
  },
  {
   "cell_type": "markdown",
   "metadata": {
    "id": "bNFK4kV9P31u"
   },
   "source": [
    "### Try out the same model with Keras Functional models!\n",
    "Refer to [Keras](https://keras.io/) for more details and tutorials for the same."
   ]
  }
 ],
 "metadata": {
  "colab": {
   "provenance": []
  },
  "kernelspec": {
   "display_name": "Python 3 (ipykernel)",
   "language": "python",
   "name": "python3"
  },
  "language_info": {
   "codemirror_mode": {
    "name": "ipython",
    "version": 3
   },
   "file_extension": ".py",
   "mimetype": "text/x-python",
   "name": "python",
   "nbconvert_exporter": "python",
   "pygments_lexer": "ipython3",
   "version": "3.10.9"
  }
 },
 "nbformat": 4,
 "nbformat_minor": 1
}
